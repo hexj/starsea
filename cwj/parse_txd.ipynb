{
 "cells": [
  {
   "cell_type": "code",
   "execution_count": 40,
   "metadata": {},
   "outputs": [],
   "source": [
    "import os\n",
    "import struct\n",
    "import pandas as pd\n",
    "\n",
    "# import taos\n",
    "import sys\n",
    "import datetime\n",
    "import random\n",
    "\n",
    "# def exitProgram(conn):\n",
    "#     conn.close()\n",
    "#     sys.exit()\n",
    "    \n",
    "    \n",
    "# def getconn():\n",
    "#     conn = taos.connect(host=\"127.0.0.1\", user=\"root\", password=\"taosdata\", config=\"/etc/taos\")\n",
    "#     return conn\n",
    "def df2db(df):\n",
    "    df.to_sql(name='test', con=con, if_exists='append', index=False)\n",
    "\n",
    "def parse_tdxfile(fname):\n",
    "    dataSet=[]\n",
    "    with open(fname,'rb')  as fl:\n",
    "        buffer=fl.read()  #读取数据到缓存\n",
    "        size=len(buffer)  \n",
    "        rowSize=32 #通信达day数据，每32个字节一组数据\n",
    "        code=os.path.basename(fname).replace('.day','')\n",
    "        for i in range(0,size,rowSize):  #步长为32遍历buffer\n",
    "            row=list( struct.unpack('IIIIIfII',buffer[i:i+rowSize]) )\n",
    "            row[1]=row[1]/100\n",
    "            row[2]=row[2]/100\n",
    "            row[3]=row[3]/100\n",
    "            row[4]=row[4]/100\n",
    "            row.pop() #移除最后无意义字段\n",
    "            row.insert(0,code)\n",
    "            dataSet.append(row)  \n",
    "    df = pd.DataFrame(data=dataSet,columns=['code','tradeDate','open','high','low','close','amount','vol'])\n",
    "    return df\n",
    "\n",
    "\n",
    "def parse_folder(folder_name):\n",
    "    print(folder_name)\n",
    "    path = folder_name\n",
    "    files= os.listdir(path)\n",
    "    for fname in files: #遍历文件夹\n",
    "        if not os.path.isdir(fname): #判断是否是文件夹，不是文件夹才打开\n",
    "            fullname = \"{0}/{1}\".format(folder_name, fname)\n",
    "            print(fullname)\n",
    "            df = parse_tdxfile(fullname)\n",
    "            # TODO save to ?\n",
    "\n",
    "def main(): \n",
    "    folder_name = \"/Users/cwj/Downloads/stk-data//sh-sz-lday-2004-20190821\"\n",
    "    fname = folder_name +\"/sh000001.day\"\n",
    "    # parse_folder(folder_name)\n",
    "    df = parse_tdxfile(fname)\n",
    "    print(df.tail())\n",
    "    print('- ' * 20)\n",
    "    print(df.shape)\n",
    "    print(\"-end-\")"
   ]
  },
  {
   "cell_type": "code",
   "execution_count": 41,
   "metadata": {},
   "outputs": [
    {
     "name": "stdout",
     "output_type": "stream",
     "text": [
      "          code  tradeDate     open     high      low    close        amount  \\\n",
      "7007  sh000001   20190815  2762.34  2815.90  2756.83  2815.80  1.736705e+11   \n",
      "7008  sh000001   20190816  2817.57  2840.32  2811.80  2823.82  1.861394e+11   \n",
      "7009  sh000001   20190819  2835.52  2883.10  2829.85  2883.10  2.470922e+11   \n",
      "7010  sh000001   20190820  2879.08  2892.08  2875.00  2880.00  2.097743e+11   \n",
      "7011  sh000001   20190821  2875.47  2885.59  2872.56  2880.33  1.831873e+11   \n",
      "\n",
      "            vol  \n",
      "7007  152772152  \n",
      "7008  148582344  \n",
      "7009  214546668  \n",
      "7010  189677206  \n",
      "7011  159019665  \n",
      "- - - - - - - - - - - - - - - - - - - - \n",
      "(7012, 8)\n",
      "-end-\n"
     ]
    }
   ],
   "source": [
    "if __name__ == '__main__':\n",
    "    main()"
   ]
  },
  {
   "cell_type": "code",
   "execution_count": null,
   "metadata": {},
   "outputs": [],
   "source": []
  }
 ],
 "metadata": {
  "kernelspec": {
   "display_name": "Python 3",
   "language": "python",
   "name": "python3"
  },
  "language_info": {
   "codemirror_mode": {
    "name": "ipython",
    "version": 3
   },
   "file_extension": ".py",
   "mimetype": "text/x-python",
   "name": "python",
   "nbconvert_exporter": "python",
   "pygments_lexer": "ipython3",
   "version": "3.6.4"
  }
 },
 "nbformat": 4,
 "nbformat_minor": 2
}
