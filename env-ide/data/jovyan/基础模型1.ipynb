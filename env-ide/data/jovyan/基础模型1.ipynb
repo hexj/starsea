{
 "cells": [
  {
   "cell_type": "code",
   "execution_count": 1,
   "metadata": {},
   "outputs": [
    {
     "name": "stdout",
     "output_type": "stream",
     "text": [
      "1.2.37\n",
      "Index(['colums:open', 'colums:high', 'colums:close', 'colums:low',\n",
      "       'colums:volume', 'colums:price_change', 'colums:p_change', 'colums:ma5',\n",
      "       'colums:ma10', 'colums:ma20', 'colums:v_ma5', 'colums:v_ma10',\n",
      "       'colums:v_ma20'],\n",
      "      dtype='object')\n"
     ]
    }
   ],
   "source": [
    "import tushare as ts\n",
    "import pandas as pd\n",
    "\n",
    "pd.set_option('display.max_columns', None)\n",
    "pd.set_option('display.max_rows', None)\n",
    "pd.set_option('display.width', None)\n",
    "# print(dir(ts))\n",
    "# ts.get_hist_data('600848') #一次性获取全部日k线数据\n",
    "\n",
    "# aa = ts.get_hist_data('600848')\n",
    "\n",
    "print(ts.__version__)\n",
    "\n",
    "d = ts.get_hist_data('000001',start='2018-01-01',end='2018-03-31')\n",
    "print(\"colums:\"+d.columns)\n",
    "# print(d)"
   ]
  },
  {
   "cell_type": "code",
   "execution_count": null,
   "metadata": {},
   "outputs": [],
   "source": []
  }
 ],
 "metadata": {
  "kernelspec": {
   "display_name": "Python 3",
   "language": "python",
   "name": "python3"
  },
  "language_info": {
   "codemirror_mode": {
    "name": "ipython",
    "version": 3
   },
   "file_extension": ".py",
   "mimetype": "text/x-python",
   "name": "python",
   "nbconvert_exporter": "python",
   "pygments_lexer": "ipython3",
   "version": "3.7.3"
  }
 },
 "nbformat": 4,
 "nbformat_minor": 2
}
