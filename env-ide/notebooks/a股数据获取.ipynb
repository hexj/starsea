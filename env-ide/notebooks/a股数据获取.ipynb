{
 "cells": [
  {
   "cell_type": "code",
   "execution_count": 5,
   "metadata": {},
   "outputs": [
    {
     "name": "stdout",
     "output_type": "stream",
     "text": [
      "Looking in indexes: http://mirrors.aliyun.com/pypi/simple/\n",
      "Collecting ta-lib\n",
      "\u001b[?25l  Downloading http://mirrors.aliyun.com/pypi/packages/90/05/d4c6a778d7a7de0be366bc4a850b4ffaeac2abad927f95fa8ba6f355a082/TA-Lib-0.4.17.tar.gz (717kB)\n",
      "\u001b[K     |████████████████████████████████| 727kB 901kB/s eta 0:00:01    |█▍                              | 30kB 2.9MB/s eta 0:00:01\n",
      "\u001b[?25hRequirement already satisfied: numpy in /opt/conda/lib/python3.7/site-packages (from ta-lib) (1.17.2)\n",
      "Building wheels for collected packages: ta-lib\n",
      "  Building wheel for ta-lib (setup.py) ... \u001b[?25ldone\n",
      "\u001b[?25h  Stored in directory: /home/jovyan/.cache/pip/wheels/28/d7/17/5255aa3d68555b5b0df9f76c6e8b7ec8c4772e1a9b5c123acc\n",
      "Successfully built ta-lib\n",
      "Installing collected packages: ta-lib\n",
      "Successfully installed ta-lib-0.4.17\n"
     ]
    }
   ],
   "source": [
    "!pip install ta-lib"
   ]
  },
  {
   "cell_type": "code",
   "execution_count": 1,
   "metadata": {},
   "outputs": [
    {
     "name": "stdout",
     "output_type": "stream",
     "text": [
      "<class 'pandas.core.frame.DataFrame'>\n",
      "2908\n",
      "        code  name c_name\n",
      "0     600051  宁波联合   综合行业\n",
      "1     600209  罗顿发展   综合行业\n",
      "2     600212  江泉实业   综合行业\n",
      "3     600256  广汇能源   综合行业\n",
      "4     600576  祥源文化   综合行业\n",
      "...      ...   ...    ...\n",
      "2903  002668  奥马电器   家电行业\n",
      "2904  002677  浙江美大   家电行业\n",
      "2905  002681  奋达科技   家电行业\n",
      "2906  002705  新宝股份   家电行业\n",
      "2907  002723   金莱特   家电行业\n",
      "\n",
      "[2908 rows x 3 columns]\n"
     ]
    }
   ],
   "source": [
    "import tushare as ts\n",
    "import pandas\n",
    "import datetime\n",
    "import talib\n",
    "\n",
    "# Step 1. Get tickers online\n",
    "tickers = ts.get_industry_classified()\n",
    "print(type(tickers))\n",
    "print(len(tickers))\n",
    "print(tickers)\n",
    "# Step 2. Save the ticker list to a local file"
   ]
  },
  {
   "cell_type": "code",
   "execution_count": null,
   "metadata": {},
   "outputs": [],
   "source": []
  }
 ],
 "metadata": {
  "kernelspec": {
   "display_name": "Python 3",
   "language": "python",
   "name": "python3"
  },
  "language_info": {
   "codemirror_mode": {
    "name": "ipython",
    "version": 3
   },
   "file_extension": ".py",
   "mimetype": "text/x-python",
   "name": "python",
   "nbconvert_exporter": "python",
   "pygments_lexer": "ipython3",
   "version": "3.7.3"
  }
 },
 "nbformat": 4,
 "nbformat_minor": 4
}
