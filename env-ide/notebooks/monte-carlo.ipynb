{
 "cells": [
  {
   "cell_type": "code",
   "execution_count": 1,
   "metadata": {},
   "outputs": [
    {
     "name": "stdout",
     "output_type": "stream",
     "text": [
      "/usr/share/fonts/SimHei.ttf\n",
      "249\n",
      "306\n",
      "714\n",
      "182\n",
      "187\n",
      "-end-\n"
     ]
    }
   ],
   "source": [
    "# %%timeit\n",
    "########-----展现平均持有单价变化-----########\n",
    "import pandas as pd\n",
    "import numpy as np\n",
    "import random\n",
    "import matplotlib as mpl\n",
    "import matplotlib.pyplot as plt\n",
    "\n",
    "def eachtime():\n",
    "    # 随机长度\n",
    "    nday = random.randint(10,1000) #交易天数 通常在四年以内\n",
    "    minpi,maxpi= 2,100 #价格最小最大值\n",
    "    # 随机矩阵 n 行 1 列\n",
    "    rdarr = np.random.randint(minpi, maxpi, size=(nday,))\n",
    "    df = pd.DataFrame(rdarr, columns=['price'])\n",
    "    pd.set_option('precision', 12) #小数点精度\n",
    "    \n",
    "    #### 定额方式 ####\n",
    "    df['amt_p-rec'] = 1.0/df['price'] # 价格倒数 p-rec\n",
    "    df['amt_sum-vol'] = df['amt_p-rec'].cumsum() #定额总量，价格倒数累加求和\n",
    "    df['定额单价'] = (df.index + 1)/df['amt_sum-vol'] #定额平均单价 = 总价/总量\n",
    "    \n",
    "    #### 定量方式 ####\n",
    "    df['vol_sum-vol'] = df['price'].cumsum() # 定量总价\n",
    "    df['定量单价'] = df['vol_sum-vol']/(df.index + 1) #定量平均单价 = 总价/总量\n",
    "    \n",
    "    df['量额比'] = df['定量单价']/df['定额单价'] \n",
    "    rstdf = df[['price','定额单价','定量单价','量额比']]\n",
    "    print(nday) \n",
    "#     rstdf.plot() #需画图去注释\n",
    "\n",
    "\n",
    "def init_font():\n",
    "    font_name = 'SimHei' \n",
    "    plt.rcParams['font.family'] = font_name #用来正常显示中文标签 \n",
    "    plt.rcParams['axes.unicode_minus']=False #用来正常显示负号\n",
    "    plt.rcParams['font.sans-serif'].append(font_name)\n",
    "    plt.rcParams['figure.figsize'] = 16, 8\n",
    "    import matplotlib.font_manager\n",
    "    matplotlib.font_manager._rebuild()\n",
    "    print(matplotlib.font_manager.findfont(font_name))\n",
    "    \n",
    "def main(): \n",
    "    init_font()\n",
    "    testcnt = 5\n",
    "    for i in range(testcnt):\n",
    "        eachtime() #算单条\n",
    "    print(\"-end-\")\n",
    "\n",
    "if __name__ == '__main__':\n",
    "    main()"
   ]
  },
  {
   "cell_type": "code",
   "execution_count": 9,
   "metadata": {},
   "outputs": [
    {
     "name": "stdout",
     "output_type": "stream",
     "text": [
      "['DejaVu Sans', 'Bitstream Vera Sans', 'Computer Modern Sans Serif', 'Lucida Grande', 'Verdana', 'Geneva', 'Lucid', 'Arial', 'Helvetica', 'Avant Garde', 'sans-serif', 'SimHei']\n",
      "['SimHei']\n"
     ]
    }
   ],
   "source": [
    "import matplotlib.pyplot as plt\n",
    "font_name = 'SimHei' \n",
    "plt.rcParams['font.family'] = font_name #用来正常显示中文标签 \n",
    "plt.rcParams['axes.unicode_minus']=False #用来正常显示负号\n",
    "plt.rcParams['font.sans-serif'].append(font_name)\n",
    "\n",
    "print(plt.rcParams['font.sans-serif'])\n",
    "print(plt.rcParams['font.family'])"
   ]
  },
  {
   "cell_type": "code",
   "execution_count": 3,
   "metadata": {},
   "outputs": [],
   "source": [
    "import matplotlib.pyplot as plt\n",
    "import numpy as np\n",
    "# plt.xkcd()\n",
    "# plt.plot(np.sin(np.linspace(0, 10))) # 画图去掉注释\n",
    "# plt.title('Whoo Hoo!!!')"
   ]
  },
  {
   "cell_type": "code",
   "execution_count": null,
   "metadata": {},
   "outputs": [],
   "source": [
    "########-----量额比-----########\n",
    "import pandas as pd\n",
    "import numpy as np\n",
    "import random\n",
    "import matplotlib as mpl\n",
    "import matplotlib.pyplot as plt\n",
    "import time\n",
    "\n",
    "def eachtime():\n",
    "    # 随机长度\n",
    "    nday = random.randint(10,1000) #交易天数 通常在四年以内\n",
    "    minpi,maxpi= 2,100 #价格最小最大值\n",
    "    # 随机矩阵 n 行 1 列\n",
    "    rdarr = np.random.randint(minpi, maxpi, size=(nday,))\n",
    "    df = pd.DataFrame(rdarr, columns=['price'])\n",
    "    pd.set_option('precision', 12) #小数点精度\n",
    "    \n",
    "    #### 定额方式 ####\n",
    "    df['amt_p-rec'] = 1.0/df['price'] # 价格倒数 p-rec\n",
    "    df['amt_sum-vol'] = df['amt_p-rec'].cumsum() #定额总量，价格倒数累加求和\n",
    "    df['定额单价'] = (df.index + 1)/df['amt_sum-vol'] #定额平均单价 = 总价/总量\n",
    "    \n",
    "    #### 定量方式 ####\n",
    "    df['vol_sum-vol'] = df['price'].cumsum() # 定量总价\n",
    "    df['定量单价'] = df['vol_sum-vol']/(df.index + 1) #定量平均单价 = 总价/总量\n",
    "    rstlb = '额量比'\n",
    "    df[rstlb] = df['定额单价']/df['定量单价'] \n",
    "#     print(\"------\", df['量额比'].iloc(-1))\n",
    "    rst = df.iloc[-1].at[rstlb] #本次最终量价比\n",
    "#     print(rst)\n",
    "    return rst\n",
    "\n",
    "def init_font():\n",
    "    font_name = 'SimHei' \n",
    "    plt.rcParams['font.family'] = font_name #用来正常显示中文标签 \n",
    "    plt.rcParams['axes.unicode_minus']=False #用来正常显示负号\n",
    "    plt.rcParams['font.sans-serif'].append(font_name)\n",
    "    plt.rcParams['figure.figsize'] = 16, 8\n",
    "    import matplotlib.font_manager\n",
    "    matplotlib.font_manager._rebuild()\n",
    "#     print(matplotlib.font_manager.findfont(font_name))\n",
    "\n",
    "def _time_analyze_(func):\n",
    "    t1_start = time.perf_counter()  \n",
    "    func()\n",
    "    t1_stop = time.perf_counter() \n",
    "    print(func.__name__)\n",
    "    print(\"Elapsed time: %s s\" % (t1_stop - t1_start))\n",
    "\n",
    "def main(): \n",
    "    init_font()\n",
    "    testcnt = 50 #计算次数\n",
    "    arr=[]\n",
    "    for i in range(testcnt):\n",
    "        arr.append(eachtime()) #算单条\n",
    "    x = [i for i in range(len(arr))]\n",
    "    parameter = np.polyfit(x, arr, 1)\n",
    "    \n",
    "    trendpoly = np.poly1d(parameter) \n",
    "#     plt.ylabel('定额定量成本比')\n",
    "#     plt.plot(arr) #画图去注释\n",
    "#     plt.plot(x,trendpoly(x))  #画图去注释\n",
    "#     plt.show() #本地机器程序运行时加上\n",
    "    print(\"-end-\")\n",
    "\n",
    "if __name__ == '__main__':\n",
    "    _time_analyze_(main)"
   ]
  },
  {
   "cell_type": "code",
   "execution_count": null,
   "metadata": {},
   "outputs": [],
   "source": []
  }
 ],
 "metadata": {
  "kernelspec": {
   "display_name": "Python 3",
   "language": "python",
   "name": "python3"
  },
  "language_info": {
   "codemirror_mode": {
    "name": "ipython",
    "version": 3
   },
   "file_extension": ".py",
   "mimetype": "text/x-python",
   "name": "python",
   "nbconvert_exporter": "python",
   "pygments_lexer": "ipython3",
   "version": "3.7.3"
  }
 },
 "nbformat": 4,
 "nbformat_minor": 4
}
