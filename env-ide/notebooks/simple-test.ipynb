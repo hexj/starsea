{
 "cells": [
  {
   "cell_type": "code",
   "execution_count": 6,
   "metadata": {},
   "outputs": [
    {
     "name": "stdout",
     "output_type": "stream",
     "text": [
      "                open      high       low     close    volume\n",
      "time                                                        \n",
      "2019-08-05  10978.91  11945.38  10978.89  11807.96  74748.53\n",
      "2019-08-06  11807.96  12316.85  11224.10  11467.10  80694.71\n",
      "2019-08-07  11467.10  12138.55  11393.98  11974.28  70893.90\n",
      "2019-08-08  11974.28  12042.87  11498.04  11982.80  49871.24\n",
      "2019-08-09  11982.80  12027.57  11859.71  11866.45   6064.43\n",
      "17487.766922000003\n",
      "                open      high       low     close    volume\n",
      "time                                                        \n",
      "2019-08-05  10978.91  11945.38  10978.89  11807.96  74748.53\n",
      "2019-08-06  11807.96  12316.85  11224.10  11467.10  80694.71\n",
      "2019-08-07  11467.10  12138.55  11393.98  11974.28  70893.90\n",
      "2019-08-08  11974.28  12042.87  11498.04  11982.80  49871.24\n",
      "2019-08-09  11982.80  12027.57  11859.71  11867.33   6064.43\n",
      "17489.016922000003\n",
      "                open      high       low     close    volume\n",
      "time                                                        \n",
      "2019-08-05  10978.91  11945.38  10978.89  11807.96  74748.53\n",
      "2019-08-06  11807.96  12316.85  11224.10  11467.10  80694.71\n",
      "2019-08-07  11467.10  12138.55  11393.98  11974.28  70893.90\n",
      "2019-08-08  11974.28  12042.87  11498.04  11982.80  49871.24\n",
      "2019-08-09  11982.80  12027.57  11859.71  11869.51   6064.43\n",
      "17490.696922000003\n",
      "                open      high       low     close    volume\n",
      "time                                                        \n",
      "2019-08-05  10978.91  11945.38  10978.89  11807.96  74748.53\n",
      "2019-08-06  11807.96  12316.85  11224.10  11467.10  80694.71\n",
      "2019-08-07  11467.10  12138.55  11393.98  11974.28  70893.90\n",
      "2019-08-08  11974.28  12042.87  11498.04  11982.80  49871.24\n",
      "2019-08-09  11982.80  12027.57  11859.71  11869.18   6064.43\n",
      "17491.476922\n",
      "                open      high       low     close    volume\n",
      "time                                                        \n",
      "2019-08-05  10978.91  11945.38  10978.89  11807.96  74748.53\n",
      "2019-08-06  11807.96  12316.85  11224.10  11467.10  80694.71\n",
      "2019-08-07  11467.10  12138.55  11393.98  11974.28  70893.90\n",
      "2019-08-08  11974.28  12042.87  11498.04  11982.80  49871.24\n",
      "2019-08-09  11982.80  12027.57  11859.71  11872.86   6064.43\n",
      "17496.956922\n",
      "                open      high       low     close    volume\n",
      "time                                                        \n",
      "2019-08-05  10978.91  11945.38  10978.89  11807.96  74748.53\n",
      "2019-08-06  11807.96  12316.85  11224.10  11467.10  80694.71\n",
      "2019-08-07  11467.10  12138.55  11393.98  11974.28  70893.90\n",
      "2019-08-08  11974.28  12042.87  11498.04  11982.80  49871.24\n",
      "2019-08-09  11982.80  12027.57  11859.71  11878.02   6064.43\n",
      "17499.336922000002\n",
      "                open      high       low     close    volume\n",
      "time                                                        \n",
      "2019-08-05  10978.91  11945.38  10978.89  11807.96  74748.53\n",
      "2019-08-06  11807.96  12316.85  11224.10  11467.10  80694.71\n",
      "2019-08-07  11467.10  12138.55  11393.98  11974.28  70893.90\n",
      "2019-08-08  11974.28  12042.87  11498.04  11982.80  49871.24\n",
      "2019-08-09  11982.80  12027.57  11859.71  11880.35   6064.43\n",
      "17503.534144\n",
      "                open      high       low     close    volume\n",
      "time                                                        \n",
      "2019-08-05  10978.91  11945.38  10978.89  11807.96  74748.53\n",
      "2019-08-06  11807.96  12316.85  11224.10  11467.10  80694.71\n",
      "2019-08-07  11467.10  12138.55  11393.98  11974.28  70893.90\n",
      "2019-08-08  11974.28  12042.87  11498.04  11982.80  49871.24\n",
      "2019-08-09  11982.80  12027.57  11859.71  11882.10   6064.43\n",
      "17503.374144\n",
      "13.1 s ± 5.27 s per loop (mean ± std. dev. of 7 runs, 1 loop each)\n"
     ]
    }
   ],
   "source": [
    "%timeit\n",
    "import backtrader as bt\n",
    "import backtrader.indicators as btind\n",
    "\n",
    "# Create a data feed\n",
    "import requests, pandas, json, datetime\n",
    "def FetchMarket(symbol,since = datetime.datetime(2018,12,1)):\n",
    "    (f,t) = symbol.split(\"/\")\n",
    "    res = requests.get(f\"https://min-api.cryptocompare.com/data/histoday?fsym={f}&tsym={t}&limit={(datetime.datetime.now()-since).days}\")\n",
    "    hist = pandas.DataFrame(json.loads(res.content)['Data'])\n",
    "    hist = hist.set_index('time')\n",
    "    hist.index = pandas.to_datetime(hist.index, unit='s')\n",
    "    hist = hist.rename(columns={'volumefrom': 'volume'})\n",
    "    hist = hist[hist.high != 0][[\"open\",\"high\",\"low\",\"close\",\"volume\"]]\n",
    "    return hist\n",
    "    \n",
    "print(FetchMarket(\"BTC/USD\").tail(5))\n",
    "\n",
    "\n",
    "class SMA_CrossOver(bt.Strategy):\n",
    "\n",
    "    params = (('fast', 3), ('slow', 20))\n",
    "\n",
    "    def __init__(self):\n",
    "        self.buysig={}\n",
    "        for d in self.getdatanames():\n",
    "            sma_fast = btind.SMA(self.getdatabyname(d), period=self.p.fast)\n",
    "            sma_slow = btind.SMA(self.getdatabyname(d), period=self.p.slow)\n",
    "            self.buysig[d] = btind.CrossOver(sma_fast, sma_slow)\n",
    "            \n",
    "    def next(self):\n",
    "        for d in self.getdatanames():\n",
    "            if self.getpositionbyname(d).size:\n",
    "                if self.buysig[d] < 0:\n",
    "                    self.sell(data=self.getdatabyname(d))\n",
    "\n",
    "            elif self.buysig[d] > 0:\n",
    "                self.buy(data=self.getdatabyname(d))\n",
    "cerebro = bt.Cerebro()\n",
    "cerebro.broker.setcommission(\n",
    "    commission = 0.002\n",
    ")\n",
    "\n",
    "for symbol in [\"BNB/USD\",\"BTC/USD\",\"ETH/USD\"]:\n",
    "    hist = FetchMarket(symbol)\n",
    "    cerebro.adddata(bt.feeds.PandasData(dataname=hist, name=symbol))  \n",
    "\n",
    "cerebro.addstrategy(SMA_CrossOver)\n",
    "cerebro.addanalyzer(bt.analyzers.SharpeRatio)\n",
    "cerebro.run()\n",
    "print(cerebro.broker.getvalue())\n",
    "\n",
    "\n",
    "                "
   ]
  },
  {
   "cell_type": "code",
   "execution_count": 2,
   "metadata": {},
   "outputs": [
    {
     "name": "stdout",
     "output_type": "stream",
     "text": [
      "Looking in indexes: http://mirrors.aliyun.com/pypi/simple/\n",
      "Requirement already satisfied: backtrader_plotting in /opt/conda/lib/python3.7/site-packages (0.5.3)\n",
      "Requirement already satisfied: bokeh~=1.0.0 in /opt/conda/lib/python3.7/site-packages (from backtrader_plotting) (1.0.4)\n",
      "Requirement already satisfied: backtrader in /opt/conda/lib/python3.7/site-packages (from backtrader_plotting) (1.9.74.123)\n",
      "Requirement already satisfied: matplotlib in /opt/conda/lib/python3.7/site-packages (from backtrader_plotting) (3.1.1)\n",
      "Requirement already satisfied: jinja2 in /opt/conda/lib/python3.7/site-packages (from backtrader_plotting) (2.10.1)\n",
      "Requirement already satisfied: pandas in /opt/conda/lib/python3.7/site-packages (from backtrader_plotting) (0.24.2)\n",
      "Requirement already satisfied: packaging>=16.8 in /opt/conda/lib/python3.7/site-packages (from bokeh~=1.0.0->backtrader_plotting) (19.1)\n",
      "Requirement already satisfied: six>=1.5.2 in /opt/conda/lib/python3.7/site-packages (from bokeh~=1.0.0->backtrader_plotting) (1.12.0)\n",
      "Requirement already satisfied: tornado>=4.3 in /opt/conda/lib/python3.7/site-packages (from bokeh~=1.0.0->backtrader_plotting) (6.0.3)\n",
      "Requirement already satisfied: numpy>=1.7.1 in /opt/conda/lib/python3.7/site-packages (from bokeh~=1.0.0->backtrader_plotting) (1.17.0)\n",
      "Requirement already satisfied: pillow>=4.0 in /opt/conda/lib/python3.7/site-packages (from bokeh~=1.0.0->backtrader_plotting) (6.1.0)\n",
      "Requirement already satisfied: python-dateutil>=2.1 in /opt/conda/lib/python3.7/site-packages (from bokeh~=1.0.0->backtrader_plotting) (2.8.0)\n",
      "Requirement already satisfied: PyYAML>=3.10 in /opt/conda/lib/python3.7/site-packages (from bokeh~=1.0.0->backtrader_plotting) (5.1.2)\n",
      "Requirement already satisfied: pyparsing!=2.0.4,!=2.1.2,!=2.1.6,>=2.0.1 in /opt/conda/lib/python3.7/site-packages (from matplotlib->backtrader_plotting) (2.4.2)\n",
      "Requirement already satisfied: cycler>=0.10 in /opt/conda/lib/python3.7/site-packages (from matplotlib->backtrader_plotting) (0.10.0)\n",
      "Requirement already satisfied: kiwisolver>=1.0.1 in /opt/conda/lib/python3.7/site-packages (from matplotlib->backtrader_plotting) (1.1.0)\n",
      "Requirement already satisfied: MarkupSafe>=0.23 in /opt/conda/lib/python3.7/site-packages (from jinja2->backtrader_plotting) (1.1.1)\n",
      "Requirement already satisfied: pytz>=2011k in /opt/conda/lib/python3.7/site-packages (from pandas->backtrader_plotting) (2019.2)\n",
      "Requirement already satisfied: attrs in /opt/conda/lib/python3.7/site-packages (from packaging>=16.8->bokeh~=1.0.0->backtrader_plotting) (19.1.0)\n",
      "Requirement already satisfied: setuptools in /opt/conda/lib/python3.7/site-packages (from kiwisolver>=1.0.1->matplotlib->backtrader_plotting) (41.0.1)\n"
     ]
    }
   ],
   "source": [
    "!pip install backtrader_plotting"
   ]
  },
  {
   "cell_type": "code",
   "execution_count": 1,
   "metadata": {},
   "outputs": [
    {
     "name": "stdout",
     "output_type": "stream",
     "text": [
      "Using matplotlib backend: agg\n"
     ]
    },
    {
     "ename": "ModuleNotFoundError",
     "evalue": "No module named 'backtrader_plotting'",
     "output_type": "error",
     "traceback": [
      "\u001b[0;31m\u001b[0m",
      "\u001b[0;31mModuleNotFoundError\u001b[0mTraceback (most recent call last)",
      "\u001b[0;32m<ipython-input-1-eafada93d555>\u001b[0m in \u001b[0;36m<module>\u001b[0;34m\u001b[0m\n\u001b[1;32m      8\u001b[0m     \u001b[0mprint\u001b[0m\u001b[0;34m(\u001b[0m\u001b[0;34m\"Ignoring\"\u001b[0m\u001b[0;34m,\u001b[0m\u001b[0me\u001b[0m\u001b[0;34m)\u001b[0m\u001b[0;34m\u001b[0m\u001b[0;34m\u001b[0m\u001b[0m\n\u001b[1;32m      9\u001b[0m \u001b[0;34m\u001b[0m\u001b[0m\n\u001b[0;32m---> 10\u001b[0;31m \u001b[0;32mfrom\u001b[0m \u001b[0mbacktrader_plotting\u001b[0m \u001b[0;32mimport\u001b[0m \u001b[0mBokeh\u001b[0m\u001b[0;34m\u001b[0m\u001b[0;34m\u001b[0m\u001b[0m\n\u001b[0m\u001b[1;32m     11\u001b[0m \u001b[0;32mfrom\u001b[0m \u001b[0mbacktrader_plotting\u001b[0m\u001b[0;34m.\u001b[0m\u001b[0mschemes\u001b[0m \u001b[0;32mimport\u001b[0m \u001b[0mTradimo\u001b[0m\u001b[0;34m\u001b[0m\u001b[0;34m\u001b[0m\u001b[0m\n\u001b[1;32m     12\u001b[0m \u001b[0;34m\u001b[0m\u001b[0m\n",
      "\u001b[0;31mModuleNotFoundError\u001b[0m: No module named 'backtrader_plotting'"
     ]
    }
   ],
   "source": [
    "try:\n",
    "    #Quick workaround for avoiding the following error while using cerebro.plot\n",
    "    #ImportError: Cannot load backend 'TkAgg' which requires the 'tk' interactive framework, as 'headless' is currently running\n",
    "    %matplotlib\n",
    "except (KeyboardInterrupt, SystemExit):\n",
    "    raise\n",
    "except Exception as e:\n",
    "    print(\"Ignoring\",e)\n",
    "\n",
    "from backtrader_plotting import Bokeh\n",
    "from backtrader_plotting.schemes import Tradimo\n",
    "\n",
    "import matplotlib.pyplot as plt\n",
    "plt.rcParams['figure.figsize'] = [16, 10]\n",
    "b = Bokeh(style='bar', plot_mode='single', scheme=Tradimo())\n",
    "cerebro.plot(b)\n",
    "# cerebro.plot() #iplot=False\n"
   ]
  },
  {
   "cell_type": "code",
   "execution_count": 2,
   "metadata": {},
   "outputs": [
    {
     "data": {
      "image/png": "[encoded data removed]",
      "text/plain": [
       "<Figure size 432x288 with 1 Axes>"
      ]
     },
     "metadata": {
      "needs_background": "light"
     },
     "output_type": "display_data"
    }
   ],
   "source": [
    "from matplotlib import pyplot as plt\n",
    "from matplotlib import animation\n",
    "import numpy as np\n",
    "\n",
    "# First set up the figure, the axis, and the plot element we want to animate\n",
    "fig, ax = plt.subplots()\n",
    "\n",
    "x = np.arange(0, 2*np.pi, 0.01)\n",
    "line, = ax.plot(x, np.sin(x))\n",
    "def loadData():\n",
    "    \n",
    "    pass\n",
    "# initialization function: plot the background of each frame\n",
    "def init():\n",
    "    line.set_ydata(np.sin(x))\n",
    "    return line,\n",
    "\n",
    "# animation function. This is called sequentially\n",
    "def animate(i):\n",
    "    line.set_ydata(np.sin(x + i/10.0))\n",
    "    return line,\n",
    "\n",
    "# call the animator. blit=True means only re-draw the parts that have changed.\n",
    "ani = animation.FuncAnimation(fig=fig,\n",
    "                              func=animate,\n",
    "                              frames=100,\n",
    "                              init_func=init,\n",
    "                              interval=20,\n",
    "                              blit=False)\n",
    "# HTML(anim.to_html5_video())\n",
    "plt.show()\n",
    "\n"
   ]
  },
  {
   "cell_type": "code",
   "execution_count": null,
   "metadata": {},
   "outputs": [],
   "source": []
  }
 ],
 "metadata": {
  "kernelspec": {
   "display_name": "Python 3",
   "language": "python",
   "name": "python3"
  },
  "language_info": {
   "codemirror_mode": {
    "name": "ipython",
    "version": 3
   },
   "file_extension": ".py",
   "mimetype": "text/x-python",
   "name": "python",
   "nbconvert_exporter": "python",
   "pygments_lexer": "ipython3",
   "version": "3.7.3"
  }
 },
 "nbformat": 4,
 "nbformat_minor": 4
}
